{
 "cells": [
  {
   "cell_type": "code",
   "execution_count": 1,
   "id": "corrected-roman",
   "metadata": {},
   "outputs": [],
   "source": [
    "import pandas as pd\n",
    "import numpy as np\n",
    "from PIL import Image\n",
    "import tensorflow as tf\n",
    "from sklearn.model_selection import train_test_split\n",
    "from sklearn.preprocessing import OneHotEncoder as ohe\n",
    "import os"
   ]
  },
  {
   "cell_type": "code",
   "execution_count": 2,
   "id": "chief-light",
   "metadata": {
    "scrolled": true
   },
   "outputs": [
    {
     "name": "stdout",
     "output_type": "stream",
     "text": [
      "D:\\Deep learning\\Traffic\\Train\\0\n",
      "D:\\Deep learning\\Traffic\\Train\\1\n",
      "D:\\Deep learning\\Traffic\\Train\\2\n",
      "D:\\Deep learning\\Traffic\\Train\\3\n",
      "D:\\Deep learning\\Traffic\\Train\\4\n",
      "D:\\Deep learning\\Traffic\\Train\\5\n",
      "D:\\Deep learning\\Traffic\\Train\\6\n",
      "D:\\Deep learning\\Traffic\\Train\\7\n",
      "D:\\Deep learning\\Traffic\\Train\\8\n",
      "D:\\Deep learning\\Traffic\\Train\\9\n",
      "D:\\Deep learning\\Traffic\\Train\\10\n",
      "D:\\Deep learning\\Traffic\\Train\\11\n",
      "D:\\Deep learning\\Traffic\\Train\\12\n",
      "D:\\Deep learning\\Traffic\\Train\\13\n",
      "D:\\Deep learning\\Traffic\\Train\\14\n",
      "D:\\Deep learning\\Traffic\\Train\\15\n",
      "D:\\Deep learning\\Traffic\\Train\\16\n",
      "D:\\Deep learning\\Traffic\\Train\\17\n",
      "D:\\Deep learning\\Traffic\\Train\\18\n",
      "D:\\Deep learning\\Traffic\\Train\\19\n",
      "D:\\Deep learning\\Traffic\\Train\\20\n",
      "D:\\Deep learning\\Traffic\\Train\\21\n",
      "D:\\Deep learning\\Traffic\\Train\\22\n",
      "D:\\Deep learning\\Traffic\\Train\\23\n",
      "D:\\Deep learning\\Traffic\\Train\\24\n",
      "D:\\Deep learning\\Traffic\\Train\\25\n",
      "D:\\Deep learning\\Traffic\\Train\\26\n",
      "D:\\Deep learning\\Traffic\\Train\\27\n",
      "D:\\Deep learning\\Traffic\\Train\\28\n",
      "D:\\Deep learning\\Traffic\\Train\\29\n",
      "D:\\Deep learning\\Traffic\\Train\\30\n",
      "D:\\Deep learning\\Traffic\\Train\\31\n",
      "D:\\Deep learning\\Traffic\\Train\\32\n",
      "D:\\Deep learning\\Traffic\\Train\\33\n",
      "D:\\Deep learning\\Traffic\\Train\\34\n",
      "D:\\Deep learning\\Traffic\\Train\\35\n",
      "D:\\Deep learning\\Traffic\\Train\\36\n",
      "D:\\Deep learning\\Traffic\\Train\\37\n",
      "D:\\Deep learning\\Traffic\\Train\\38\n",
      "D:\\Deep learning\\Traffic\\Train\\39\n",
      "D:\\Deep learning\\Traffic\\Train\\40\n",
      "D:\\Deep learning\\Traffic\\Train\\41\n",
      "D:\\Deep learning\\Traffic\\Train\\42\n"
     ]
    }
   ],
   "source": [
    "path = os.getcwd() + \"\\\\\" + \"Train\"\n",
    "classes = 43\n",
    "data = []\n",
    "labels = []\n",
    "# there are 43 types of traffic signs in the dataset\n",
    "for i in range(classes):\n",
    "    cur_path = os.path.join(path,str(i))\n",
    "    images = os.listdir(cur_path)\n",
    "    print(cur_path)\n",
    "    for a in images:\n",
    "        try:\n",
    "            im = Image.open(os.path.join(cur_path,a))\n",
    "            im = im.resize((30,30))\n",
    "            im = np.array(im)\n",
    "            data.append(im)\n",
    "            labels.append(i)\n",
    "        except:\n",
    "            print(\"Invalid Image\")\n",
    "\n",
    "data = np.array(data)\n",
    "labels = np.array(labels) "
   ]
  },
  {
   "cell_type": "code",
   "execution_count": 3,
   "id": "given-balance",
   "metadata": {},
   "outputs": [
    {
     "data": {
      "text/plain": [
       "((39209, 30, 30, 3), (39209,))"
      ]
     },
     "execution_count": 3,
     "metadata": {},
     "output_type": "execute_result"
    }
   ],
   "source": [
    "data = data.astype('float32')\n",
    "labels = labels.astype('float32')\n",
    "data.shape , labels.shape"
   ]
  },
  {
   "cell_type": "code",
   "execution_count": 4,
   "id": "northern-mainland",
   "metadata": {},
   "outputs": [],
   "source": [
    "target = pd.read_csv(\"Train.csv\")\n",
    "# not used here"
   ]
  },
  {
   "cell_type": "code",
   "execution_count": 5,
   "id": "raised-palestine",
   "metadata": {},
   "outputs": [],
   "source": [
    "X_train,X_test,y_train,y_test = train_test_split(data,labels,test_size = 0.1,random_state = 1)\n",
    "\n",
    "y_train = tf.keras.utils.to_categorical(y_train)\n",
    "y_test = tf.keras.utils.to_categorical(y_test)"
   ]
  },
  {
   "cell_type": "code",
   "execution_count": 6,
   "id": "raised-unemployment",
   "metadata": {},
   "outputs": [
    {
     "data": {
      "text/plain": [
       "((35288, 43), (3921, 43), (35288, 30, 30, 3), (3921, 30, 30, 3))"
      ]
     },
     "execution_count": 6,
     "metadata": {},
     "output_type": "execute_result"
    }
   ],
   "source": [
    "y_train.shape,y_test.shape,X_train.shape,X_test.shape"
   ]
  },
  {
   "cell_type": "code",
   "execution_count": 7,
   "id": "occupational-qualification",
   "metadata": {},
   "outputs": [],
   "source": [
    "Output_size = 43\n",
    "input_size = [30,30,3]\n",
    "\n",
    "model = tf.keras.Sequential([\n",
    "    tf.keras.layers.Conv2D(filters = 6, kernel_size = (4,4), strides = (1,1),\n",
    "                           padding = 'valid',kernel_initializer='glorot_uniform',bias_initializer='zeros'),\n",
    "    tf.keras.layers.ReLU(negative_slope = 0.01),\n",
    "    tf.keras.layers.BatchNormalization(),\n",
    "    tf.keras.layers.MaxPool2D(pool_size=(2, 2)),\n",
    "    tf.keras.layers.Conv2D(filters = 3, kernel_size = (3,3), strides = (1,1),\n",
    "                           padding = 'valid',kernel_initializer='glorot_uniform',bias_initializer='zeros'),\n",
    "    tf.keras.layers.ReLU(negative_slope = 0.01),\n",
    "    tf.keras.layers.BatchNormalization(),\n",
    "    tf.keras.layers.MaxPool2D(pool_size=(2, 2)),\n",
    "    tf.keras.layers.Flatten(),\n",
    "    tf.keras.layers.Dense(43, activation = 'softmax', name = 'output')\n",
    "])"
   ]
  },
  {
   "cell_type": "code",
   "execution_count": 8,
   "id": "varying-application",
   "metadata": {},
   "outputs": [],
   "source": [
    "optm = tf.keras.optimizers.Adam()\n",
    "model.compile(optimizer = optm, loss = 'categorical_crossentropy', metrics = ['accuracy'])"
   ]
  },
  {
   "cell_type": "code",
   "execution_count": 9,
   "id": "conventional-dubai",
   "metadata": {
    "scrolled": true
   },
   "outputs": [
    {
     "name": "stdout",
     "output_type": "stream",
     "text": [
      "Epoch 1/15\n",
      "552/552 [==============================] - 22s 34ms/step - loss: 2.9060 - accuracy: 0.2750 - val_loss: 1.1315 - val_accuracy: 0.7169\n",
      "Epoch 2/15\n",
      "552/552 [==============================] - 15s 27ms/step - loss: 0.8780 - accuracy: 0.7643 - val_loss: 0.5837 - val_accuracy: 0.8572\n",
      "Epoch 3/15\n",
      "552/552 [==============================] - 15s 27ms/step - loss: 0.4952 - accuracy: 0.8712 - val_loss: 0.4260 - val_accuracy: 0.8970\n",
      "Epoch 4/15\n",
      "552/552 [==============================] - 15s 27ms/step - loss: 0.3597 - accuracy: 0.9063 - val_loss: 0.3531 - val_accuracy: 0.9069\n",
      "Epoch 5/15\n",
      "552/552 [==============================] - 15s 27ms/step - loss: 0.2951 - accuracy: 0.9247 - val_loss: 0.3838 - val_accuracy: 0.9064\n",
      "Epoch 6/15\n",
      "552/552 [==============================] - 15s 27ms/step - loss: 0.2473 - accuracy: 0.9379 - val_loss: 0.2778 - val_accuracy: 0.9347\n",
      "Epoch 7/15\n",
      "552/552 [==============================] - 15s 27ms/step - loss: 0.2205 - accuracy: 0.9439 - val_loss: 0.3574 - val_accuracy: 0.9107\n",
      "Epoch 8/15\n",
      "552/552 [==============================] - 16s 28ms/step - loss: 0.1954 - accuracy: 0.9481 - val_loss: 0.2632 - val_accuracy: 0.9408\n",
      "Epoch 9/15\n",
      "552/552 [==============================] - 16s 28ms/step - loss: 0.1829 - accuracy: 0.9517 - val_loss: 0.2627 - val_accuracy: 0.9311\n",
      "Epoch 10/15\n",
      "552/552 [==============================] - 17s 31ms/step - loss: 0.1757 - accuracy: 0.9540 - val_loss: 0.3986 - val_accuracy: 0.9056\n",
      "Epoch 11/15\n",
      "552/552 [==============================] - 17s 31ms/step - loss: 0.1649 - accuracy: 0.9574 - val_loss: 0.2270 - val_accuracy: 0.9492\n",
      "Epoch 12/15\n",
      "552/552 [==============================] - 16s 30ms/step - loss: 0.1557 - accuracy: 0.9607 - val_loss: 0.3124 - val_accuracy: 0.9174\n",
      "Epoch 13/15\n",
      "552/552 [==============================] - 16s 28ms/step - loss: 0.1482 - accuracy: 0.9612 - val_loss: 0.2014 - val_accuracy: 0.9579\n",
      "Epoch 14/15\n",
      "552/552 [==============================] - 16s 29ms/step - loss: 0.1428 - accuracy: 0.9629 - val_loss: 0.2104 - val_accuracy: 0.9500\n",
      "Epoch 15/15\n",
      "552/552 [==============================] - 17s 30ms/step - loss: 0.1416 - accuracy: 0.9634 - val_loss: 0.1963 - val_accuracy: 0.9549\n"
     ]
    },
    {
     "data": {
      "text/plain": [
       "<tensorflow.python.keras.callbacks.History at 0x1904b2fddf0>"
      ]
     },
     "execution_count": 9,
     "metadata": {},
     "output_type": "execute_result"
    }
   ],
   "source": [
    "model.fit(X_train,y_train,epochs = 15,batch_size = 64, validation_data = (X_test,y_test))\n",
    "# x/552 is batch no. --> #train_eg = batch_size*552"
   ]
  },
  {
   "cell_type": "code",
   "execution_count": 10,
   "id": "dutch-while",
   "metadata": {},
   "outputs": [],
   "source": [
    "# test_loss,test_accuracy = model.evaluate(X_test,y_test,verbose = 0)\n",
    "# print(test_loss,test_accuracy)"
   ]
  },
  {
   "cell_type": "code",
   "execution_count": 11,
   "id": "endangered-indicator",
   "metadata": {},
   "outputs": [
    {
     "data": {
      "text/plain": [
       "37"
      ]
     },
     "execution_count": 11,
     "metadata": {},
     "output_type": "execute_result"
    }
   ],
   "source": [
    "np.argmax(model.predict(X_test[1].reshape(1,30,30,3)))"
   ]
  },
  {
   "cell_type": "code",
   "execution_count": 12,
   "id": "angry-grammar",
   "metadata": {},
   "outputs": [
    {
     "data": {
      "text/plain": [
       "(38,\n",
       " array([0., 0., 0., 0., 0., 0., 0., 0., 0., 0., 0., 0., 0., 0., 0., 0., 0.,\n",
       "        0., 0., 0., 0., 0., 0., 0., 0., 0., 0., 0., 0., 0., 0., 0., 0., 0.,\n",
       "        0., 0., 0., 0., 1., 0., 0., 0., 0.], dtype=float32))"
      ]
     },
     "execution_count": 12,
     "metadata": {},
     "output_type": "execute_result"
    }
   ],
   "source": [
    "np.argmax(y_test[1]),y_test[1]"
   ]
  },
  {
   "cell_type": "code",
   "execution_count": 13,
   "id": "sunrise-secondary",
   "metadata": {},
   "outputs": [
    {
     "name": "stderr",
     "output_type": "stream",
     "text": [
      "Matplotlib is building the font cache; this may take a moment.\n"
     ]
    }
   ],
   "source": [
    "import matplotlib.pyplot as plt\n",
    "%matplotlib inline"
   ]
  },
  {
   "cell_type": "code",
   "execution_count": 14,
   "id": "coupled-gathering",
   "metadata": {},
   "outputs": [
    {
     "name": "stderr",
     "output_type": "stream",
     "text": [
      "D:\\anaconda3\\envs\\py3.8-tf2\\lib\\site-packages\\tensorflow\\python\\keras\\engine\\sequential.py:450: UserWarning: `model.predict_classes()` is deprecated and will be removed after 2021-01-01. Please use instead:* `np.argmax(model.predict(x), axis=-1)`,   if your model does multi-class classification   (e.g. if it uses a `softmax` last-layer activation).* `(model.predict(x) > 0.5).astype(\"int32\")`,   if your model does binary classification   (e.g. if it uses a `sigmoid` last-layer activation).\n",
      "  warnings.warn('`model.predict_classes()` is deprecated and '\n"
     ]
    },
    {
     "name": "stdout",
     "output_type": "stream",
     "text": [
      "0.8832937450514647\n"
     ]
    }
   ],
   "source": [
    "from sklearn.metrics import accuracy_score\n",
    "y_test = pd.read_csv('Test.csv')\n",
    "labels = y_test[\"ClassId\"].values\n",
    "imgs = y_test[\"Path\"].values\n",
    "data=[]\n",
    "for img in imgs:\n",
    "    image = Image.open(img)\n",
    "    image = image.resize((30,30))\n",
    "    data.append(np.array(image))\n",
    "X_test=np.array(data)\n",
    "pred = model.predict_classes(X_test)\n",
    "#Accuracy with the test data\n",
    "from sklearn.metrics import accuracy_score\n",
    "print(accuracy_score(labels, pred))"
   ]
  },
  {
   "cell_type": "code",
   "execution_count": null,
   "id": "worth-universe",
   "metadata": {},
   "outputs": [],
   "source": []
  }
 ],
 "metadata": {
  "kernelspec": {
   "display_name": "Python 3",
   "language": "python",
   "name": "python3"
  },
  "language_info": {
   "codemirror_mode": {
    "name": "ipython",
    "version": 3
   },
   "file_extension": ".py",
   "mimetype": "text/x-python",
   "name": "python",
   "nbconvert_exporter": "python",
   "pygments_lexer": "ipython3",
   "version": "3.8.8"
  }
 },
 "nbformat": 4,
 "nbformat_minor": 5
}
